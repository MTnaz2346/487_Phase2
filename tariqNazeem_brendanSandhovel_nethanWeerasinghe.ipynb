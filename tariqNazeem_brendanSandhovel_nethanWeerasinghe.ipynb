{
 "cells": [
  {
   "cell_type": "code",
   "execution_count": 11,
   "id": "b5f75e81-ecdb-465a-9008-9cf9bc401093",
   "metadata": {},
   "outputs": [
    {
     "data": {
      "text/html": [
       "<div>\n",
       "<style scoped>\n",
       "    .dataframe tbody tr th:only-of-type {\n",
       "        vertical-align: middle;\n",
       "    }\n",
       "\n",
       "    .dataframe tbody tr th {\n",
       "        vertical-align: top;\n",
       "    }\n",
       "\n",
       "    .dataframe thead th {\n",
       "        text-align: right;\n",
       "    }\n",
       "</style>\n",
       "<table border=\"1\" class=\"dataframe\">\n",
       "  <thead>\n",
       "    <tr style=\"text-align: right;\">\n",
       "      <th></th>\n",
       "      <th>Name</th>\n",
       "      <th>Age</th>\n",
       "      <th>Marital Status</th>\n",
       "      <th>Education Level</th>\n",
       "      <th>Number of Children</th>\n",
       "      <th>Smoking Status</th>\n",
       "      <th>Physical Activity Level</th>\n",
       "      <th>Employment Status</th>\n",
       "      <th>Income</th>\n",
       "      <th>Alcohol Consumption</th>\n",
       "      <th>Dietary Habits</th>\n",
       "      <th>Sleep Patterns</th>\n",
       "      <th>History of Mental Illness</th>\n",
       "      <th>History of Substance Abuse</th>\n",
       "      <th>Family History of Depression</th>\n",
       "      <th>Chronic Medical Conditions</th>\n",
       "    </tr>\n",
       "  </thead>\n",
       "  <tbody>\n",
       "    <tr>\n",
       "      <th>0</th>\n",
       "      <td>Christine Barker</td>\n",
       "      <td>31</td>\n",
       "      <td>Married</td>\n",
       "      <td>Bachelor's Degree</td>\n",
       "      <td>2</td>\n",
       "      <td>Non-smoker</td>\n",
       "      <td>Active</td>\n",
       "      <td>Unemployed</td>\n",
       "      <td>26265.67</td>\n",
       "      <td>Moderate</td>\n",
       "      <td>Moderate</td>\n",
       "      <td>Fair</td>\n",
       "      <td>Yes</td>\n",
       "      <td>No</td>\n",
       "      <td>Yes</td>\n",
       "      <td>Yes</td>\n",
       "    </tr>\n",
       "    <tr>\n",
       "      <th>1</th>\n",
       "      <td>Jacqueline Lewis</td>\n",
       "      <td>55</td>\n",
       "      <td>Married</td>\n",
       "      <td>High School</td>\n",
       "      <td>1</td>\n",
       "      <td>Non-smoker</td>\n",
       "      <td>Sedentary</td>\n",
       "      <td>Employed</td>\n",
       "      <td>42710.36</td>\n",
       "      <td>High</td>\n",
       "      <td>Unhealthy</td>\n",
       "      <td>Fair</td>\n",
       "      <td>Yes</td>\n",
       "      <td>No</td>\n",
       "      <td>No</td>\n",
       "      <td>Yes</td>\n",
       "    </tr>\n",
       "    <tr>\n",
       "      <th>2</th>\n",
       "      <td>Shannon Church</td>\n",
       "      <td>78</td>\n",
       "      <td>Widowed</td>\n",
       "      <td>Master's Degree</td>\n",
       "      <td>1</td>\n",
       "      <td>Non-smoker</td>\n",
       "      <td>Sedentary</td>\n",
       "      <td>Employed</td>\n",
       "      <td>125332.79</td>\n",
       "      <td>Low</td>\n",
       "      <td>Unhealthy</td>\n",
       "      <td>Good</td>\n",
       "      <td>No</td>\n",
       "      <td>No</td>\n",
       "      <td>Yes</td>\n",
       "      <td>No</td>\n",
       "    </tr>\n",
       "    <tr>\n",
       "      <th>3</th>\n",
       "      <td>Charles Jordan</td>\n",
       "      <td>58</td>\n",
       "      <td>Divorced</td>\n",
       "      <td>Master's Degree</td>\n",
       "      <td>3</td>\n",
       "      <td>Non-smoker</td>\n",
       "      <td>Moderate</td>\n",
       "      <td>Unemployed</td>\n",
       "      <td>9992.78</td>\n",
       "      <td>Moderate</td>\n",
       "      <td>Moderate</td>\n",
       "      <td>Poor</td>\n",
       "      <td>No</td>\n",
       "      <td>No</td>\n",
       "      <td>No</td>\n",
       "      <td>No</td>\n",
       "    </tr>\n",
       "    <tr>\n",
       "      <th>4</th>\n",
       "      <td>Michael Rich</td>\n",
       "      <td>18</td>\n",
       "      <td>Single</td>\n",
       "      <td>High School</td>\n",
       "      <td>0</td>\n",
       "      <td>Non-smoker</td>\n",
       "      <td>Sedentary</td>\n",
       "      <td>Unemployed</td>\n",
       "      <td>8595.08</td>\n",
       "      <td>Low</td>\n",
       "      <td>Moderate</td>\n",
       "      <td>Fair</td>\n",
       "      <td>Yes</td>\n",
       "      <td>No</td>\n",
       "      <td>Yes</td>\n",
       "      <td>Yes</td>\n",
       "    </tr>\n",
       "  </tbody>\n",
       "</table>\n",
       "</div>"
      ],
      "text/plain": [
       "               Name  Age Marital Status    Education Level  \\\n",
       "0  Christine Barker   31        Married  Bachelor's Degree   \n",
       "1  Jacqueline Lewis   55        Married        High School   \n",
       "2    Shannon Church   78        Widowed    Master's Degree   \n",
       "3    Charles Jordan   58       Divorced    Master's Degree   \n",
       "4      Michael Rich   18         Single        High School   \n",
       "\n",
       "   Number of Children Smoking Status Physical Activity Level  \\\n",
       "0                   2     Non-smoker                  Active   \n",
       "1                   1     Non-smoker               Sedentary   \n",
       "2                   1     Non-smoker               Sedentary   \n",
       "3                   3     Non-smoker                Moderate   \n",
       "4                   0     Non-smoker               Sedentary   \n",
       "\n",
       "  Employment Status     Income Alcohol Consumption Dietary Habits  \\\n",
       "0        Unemployed   26265.67            Moderate       Moderate   \n",
       "1          Employed   42710.36                High      Unhealthy   \n",
       "2          Employed  125332.79                 Low      Unhealthy   \n",
       "3        Unemployed    9992.78            Moderate       Moderate   \n",
       "4        Unemployed    8595.08                 Low       Moderate   \n",
       "\n",
       "  Sleep Patterns History of Mental Illness History of Substance Abuse  \\\n",
       "0           Fair                       Yes                         No   \n",
       "1           Fair                       Yes                         No   \n",
       "2           Good                        No                         No   \n",
       "3           Poor                        No                         No   \n",
       "4           Fair                       Yes                         No   \n",
       "\n",
       "  Family History of Depression Chronic Medical Conditions  \n",
       "0                          Yes                        Yes  \n",
       "1                           No                        Yes  \n",
       "2                          Yes                         No  \n",
       "3                           No                         No  \n",
       "4                          Yes                        Yes  "
      ]
     },
     "execution_count": 11,
     "metadata": {},
     "output_type": "execute_result"
    }
   ],
   "source": [
    "import pandas as pd\n",
    "import os\n",
    "\n",
    "script_dir = os.getcwd()\n",
    "dataset_path = os.path.join(script_dir, '..', 'depression_data.csv')\n",
    "data = pd.read_csv(dataset_path)\n",
    "\n",
    "data.head()"
   ]
  },
  {
   "cell_type": "markdown",
   "id": "966f7fc5-0c80-4647-9df9-70dc96ac34f1",
   "metadata": {},
   "source": [
    "EDA Steps"
   ]
  },
  {
   "cell_type": "markdown",
   "id": "b9ce81b8-450b-453f-9b5e-dc9c6072b4ae",
   "metadata": {},
   "source": [
    "Step 1: Feature engineering, Dropping the 'Name' column to protect users privacy and because it is an unneccesary feature that is causally\n",
    "impotent and cannot effect our response variable. "
   ]
  },
  {
   "cell_type": "code",
   "execution_count": 13,
   "id": "c60782f2-fdae-4b0a-9d41-e1f95e4fa7e7",
   "metadata": {},
   "outputs": [
    {
     "data": {
      "text/html": [
       "<div>\n",
       "<style scoped>\n",
       "    .dataframe tbody tr th:only-of-type {\n",
       "        vertical-align: middle;\n",
       "    }\n",
       "\n",
       "    .dataframe tbody tr th {\n",
       "        vertical-align: top;\n",
       "    }\n",
       "\n",
       "    .dataframe thead th {\n",
       "        text-align: right;\n",
       "    }\n",
       "</style>\n",
       "<table border=\"1\" class=\"dataframe\">\n",
       "  <thead>\n",
       "    <tr style=\"text-align: right;\">\n",
       "      <th></th>\n",
       "      <th>Age</th>\n",
       "      <th>Marital Status</th>\n",
       "      <th>Education Level</th>\n",
       "      <th>Number of Children</th>\n",
       "      <th>Smoking Status</th>\n",
       "      <th>Physical Activity Level</th>\n",
       "      <th>Employment Status</th>\n",
       "      <th>Income</th>\n",
       "      <th>Alcohol Consumption</th>\n",
       "      <th>Dietary Habits</th>\n",
       "      <th>Sleep Patterns</th>\n",
       "      <th>History of Mental Illness</th>\n",
       "      <th>History of Substance Abuse</th>\n",
       "      <th>Family History of Depression</th>\n",
       "      <th>Chronic Medical Conditions</th>\n",
       "    </tr>\n",
       "  </thead>\n",
       "  <tbody>\n",
       "    <tr>\n",
       "      <th>0</th>\n",
       "      <td>31</td>\n",
       "      <td>Married</td>\n",
       "      <td>Bachelor's Degree</td>\n",
       "      <td>2</td>\n",
       "      <td>Non-smoker</td>\n",
       "      <td>Active</td>\n",
       "      <td>Unemployed</td>\n",
       "      <td>26265.67</td>\n",
       "      <td>Moderate</td>\n",
       "      <td>Moderate</td>\n",
       "      <td>Fair</td>\n",
       "      <td>Yes</td>\n",
       "      <td>No</td>\n",
       "      <td>Yes</td>\n",
       "      <td>Yes</td>\n",
       "    </tr>\n",
       "    <tr>\n",
       "      <th>1</th>\n",
       "      <td>55</td>\n",
       "      <td>Married</td>\n",
       "      <td>High School</td>\n",
       "      <td>1</td>\n",
       "      <td>Non-smoker</td>\n",
       "      <td>Sedentary</td>\n",
       "      <td>Employed</td>\n",
       "      <td>42710.36</td>\n",
       "      <td>High</td>\n",
       "      <td>Unhealthy</td>\n",
       "      <td>Fair</td>\n",
       "      <td>Yes</td>\n",
       "      <td>No</td>\n",
       "      <td>No</td>\n",
       "      <td>Yes</td>\n",
       "    </tr>\n",
       "    <tr>\n",
       "      <th>2</th>\n",
       "      <td>78</td>\n",
       "      <td>Widowed</td>\n",
       "      <td>Master's Degree</td>\n",
       "      <td>1</td>\n",
       "      <td>Non-smoker</td>\n",
       "      <td>Sedentary</td>\n",
       "      <td>Employed</td>\n",
       "      <td>125332.79</td>\n",
       "      <td>Low</td>\n",
       "      <td>Unhealthy</td>\n",
       "      <td>Good</td>\n",
       "      <td>No</td>\n",
       "      <td>No</td>\n",
       "      <td>Yes</td>\n",
       "      <td>No</td>\n",
       "    </tr>\n",
       "    <tr>\n",
       "      <th>3</th>\n",
       "      <td>58</td>\n",
       "      <td>Divorced</td>\n",
       "      <td>Master's Degree</td>\n",
       "      <td>3</td>\n",
       "      <td>Non-smoker</td>\n",
       "      <td>Moderate</td>\n",
       "      <td>Unemployed</td>\n",
       "      <td>9992.78</td>\n",
       "      <td>Moderate</td>\n",
       "      <td>Moderate</td>\n",
       "      <td>Poor</td>\n",
       "      <td>No</td>\n",
       "      <td>No</td>\n",
       "      <td>No</td>\n",
       "      <td>No</td>\n",
       "    </tr>\n",
       "    <tr>\n",
       "      <th>4</th>\n",
       "      <td>18</td>\n",
       "      <td>Single</td>\n",
       "      <td>High School</td>\n",
       "      <td>0</td>\n",
       "      <td>Non-smoker</td>\n",
       "      <td>Sedentary</td>\n",
       "      <td>Unemployed</td>\n",
       "      <td>8595.08</td>\n",
       "      <td>Low</td>\n",
       "      <td>Moderate</td>\n",
       "      <td>Fair</td>\n",
       "      <td>Yes</td>\n",
       "      <td>No</td>\n",
       "      <td>Yes</td>\n",
       "      <td>Yes</td>\n",
       "    </tr>\n",
       "  </tbody>\n",
       "</table>\n",
       "</div>"
      ],
      "text/plain": [
       "   Age Marital Status    Education Level  Number of Children Smoking Status  \\\n",
       "0   31        Married  Bachelor's Degree                   2     Non-smoker   \n",
       "1   55        Married        High School                   1     Non-smoker   \n",
       "2   78        Widowed    Master's Degree                   1     Non-smoker   \n",
       "3   58       Divorced    Master's Degree                   3     Non-smoker   \n",
       "4   18         Single        High School                   0     Non-smoker   \n",
       "\n",
       "  Physical Activity Level Employment Status     Income Alcohol Consumption  \\\n",
       "0                  Active        Unemployed   26265.67            Moderate   \n",
       "1               Sedentary          Employed   42710.36                High   \n",
       "2               Sedentary          Employed  125332.79                 Low   \n",
       "3                Moderate        Unemployed    9992.78            Moderate   \n",
       "4               Sedentary        Unemployed    8595.08                 Low   \n",
       "\n",
       "  Dietary Habits Sleep Patterns History of Mental Illness  \\\n",
       "0       Moderate           Fair                       Yes   \n",
       "1      Unhealthy           Fair                       Yes   \n",
       "2      Unhealthy           Good                        No   \n",
       "3       Moderate           Poor                        No   \n",
       "4       Moderate           Fair                       Yes   \n",
       "\n",
       "  History of Substance Abuse Family History of Depression  \\\n",
       "0                         No                          Yes   \n",
       "1                         No                           No   \n",
       "2                         No                          Yes   \n",
       "3                         No                           No   \n",
       "4                         No                          Yes   \n",
       "\n",
       "  Chronic Medical Conditions  \n",
       "0                        Yes  \n",
       "1                        Yes  \n",
       "2                         No  \n",
       "3                         No  \n",
       "4                        Yes  "
      ]
     },
     "execution_count": 13,
     "metadata": {},
     "output_type": "execute_result"
    }
   ],
   "source": [
    "data.drop(columns=['Name'], inplace=True)\n",
    "data.head()"
   ]
  },
  {
   "cell_type": "markdown",
   "id": "a4819a93-9db0-4b09-b453-01b521a78314",
   "metadata": {},
   "source": [
    "Step 2: Displaying general characteristics of the quantititative features: 'Age', 'Number of Children' and 'Income'"
   ]
  },
  {
   "cell_type": "code",
   "execution_count": 16,
   "id": "d1a9e2ce-9307-4f2c-8982-6ff2ab50f94e",
   "metadata": {},
   "outputs": [
    {
     "name": "stdout",
     "output_type": "stream",
     "text": [
      "count    413768.000000\n",
      "mean         49.000713\n",
      "std          18.158759\n",
      "min          18.000000\n",
      "25%          33.000000\n",
      "50%          49.000000\n",
      "75%          65.000000\n",
      "max          80.000000\n",
      "Name: Age, dtype: float64\n"
     ]
    }
   ],
   "source": [
    "summaryAge = data['Age'].describe()\n",
    "print(summaryAge)"
   ]
  },
  {
   "cell_type": "code",
   "execution_count": 22,
   "id": "a19d7dd6-6900-4363-97ca-a71ccab4533f",
   "metadata": {},
   "outputs": [
    {
     "data": {
      "image/png": "[encoded data removed]",
      "text/plain": [
       "<Figure size 640x480 with 1 Axes>"
      ]
     },
     "metadata": {},
     "output_type": "display_data"
    },
    {
     "data": {
      "image/png": "[encoded data removed]",
      "text/plain": [
       "<Figure size 640x480 with 1 Axes>"
      ]
     },
     "metadata": {},
     "output_type": "display_data"
    }
   ],
   "source": [
    "import matplotlib.pyplot as plt\n",
    "import seaborn as sns\n",
    "\n",
    "# Histogram\n",
    "plt.hist(data['Age'], bins=6, edgecolor='black')\n",
    "plt.title('Histogram of Age')\n",
    "plt.show()\n",
    "\n",
    "# Boxplot (outliers)\n",
    "sns.boxplot(x=data['Age'])\n",
    "plt.title('Boxplot of Age')\n",
    "plt.show()"
   ]
  },
  {
   "cell_type": "code",
   "execution_count": 17,
   "id": "af43f389-5b1b-412e-9df8-f050c33aadce",
   "metadata": {},
   "outputs": [
    {
     "name": "stdout",
     "output_type": "stream",
     "text": [
      "count    413768.000000\n",
      "mean          1.298972\n",
      "std           1.237054\n",
      "min           0.000000\n",
      "25%           0.000000\n",
      "50%           1.000000\n",
      "75%           2.000000\n",
      "max           4.000000\n",
      "Name: Number of Children, dtype: float64\n"
     ]
    }
   ],
   "source": [
    "summaryNumChildren = data['Number of Children'].describe()\n",
    "print(summaryNumChildren)"
   ]
  },
  {
   "cell_type": "code",
   "execution_count": 23,
   "id": "2eee1861-b1fa-4cf8-ab60-303f93df58a9",
   "metadata": {},
   "outputs": [
    {
     "data": {
      "image/png": "[encoded data removed]",
      "text/plain": [
       "<Figure size 640x480 with 1 Axes>"
      ]
     },
     "metadata": {},
     "output_type": "display_data"
    },
    {
     "data": {
      "image/png": "[encoded data removed]",
      "text/plain": [
       "<Figure size 640x480 with 1 Axes>"
      ]
     },
     "metadata": {},
     "output_type": "display_data"
    }
   ],
   "source": [
    "# Histogram\n",
    "plt.hist(data['Number of Children'], bins=4, edgecolor='black')\n",
    "plt.title('Histogram of Number of Children')\n",
    "plt.show()\n",
    "\n",
    "# Boxplot (outliers)\n",
    "sns.boxplot(x=data['Number of Children'])\n",
    "plt.title('Boxplot of Number of Children')\n",
    "plt.show()"
   ]
  },
  {
   "cell_type": "code",
   "execution_count": 18,
   "id": "01e5f2c0-bbb6-415d-8f64-d02fcd23d31e",
   "metadata": {},
   "outputs": [
    {
     "name": "stdout",
     "output_type": "stream",
     "text": [
      "count    413768.000000\n",
      "mean      50661.707971\n",
      "std       40624.100565\n",
      "min           0.410000\n",
      "25%       21001.030000\n",
      "50%       37520.135000\n",
      "75%       76616.300000\n",
      "max      209995.220000\n",
      "Name: Income, dtype: float64\n"
     ]
    }
   ],
   "source": [
    "summaryIncome = data['Income'].describe()\n",
    "print(summaryIncome)"
   ]
  },
  {
   "cell_type": "code",
   "execution_count": 24,
   "id": "a56d81cd-5399-4f6e-b3e1-083fdbb3e77c",
   "metadata": {},
   "outputs": [
    {
     "data": {
      "image/png": "[encoded data removed]",
      "text/plain": [
       "<Figure size 640x480 with 1 Axes>"
      ]
     },
     "metadata": {},
     "output_type": "display_data"
    },
    {
     "data": {
      "image/png": "[encoded data removed]",
      "text/plain": [
       "<Figure size 640x480 with 1 Axes>"
      ]
     },
     "metadata": {},
     "output_type": "display_data"
    }
   ],
   "source": [
    "# Histogram\n",
    "plt.hist(data['Income'], bins=10, edgecolor='black')\n",
    "plt.title('Histogram of Income')\n",
    "plt.show()\n",
    "\n",
    "# Boxplot (outliers)\n",
    "sns.boxplot(x=data['Income'])\n",
    "plt.title('Boxplot of Income')\n",
    "plt.show()"
   ]
  },
  {
   "cell_type": "code",
   "execution_count": null,
   "id": "9741e7da-10c3-4437-8884-7940081af209",
   "metadata": {},
   "outputs": [],
   "source": []
  }
 ],
 "metadata": {
  "kernelspec": {
   "display_name": "Python 3 (ipykernel)",
   "language": "python",
   "name": "python3"
  },
  "language_info": {
   "codemirror_mode": {
    "name": "ipython",
    "version": 3
   },
   "file_extension": ".py",
   "mimetype": "text/x-python",
   "name": "python",
   "nbconvert_exporter": "python",
   "pygments_lexer": "ipython3",
   "version": "3.13.2"
  }
 },
 "nbformat": 4,
 "nbformat_minor": 5
}
